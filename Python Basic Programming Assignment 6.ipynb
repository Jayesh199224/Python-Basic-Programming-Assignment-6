{
 "cells": [
  {
   "cell_type": "code",
   "execution_count": 19,
   "metadata": {},
   "outputs": [
    {
     "name": "stdout",
     "output_type": "stream",
     "text": [
      "fibonaci series given below\n",
      "0\n",
      "1\n",
      "1\n",
      "2\n",
      "3\n",
      "5\n",
      "8\n",
      "13\n",
      "21\n",
      "34\n",
      "55\n",
      "89\n",
      "144\n",
      "233\n",
      "377\n"
     ]
    }
   ],
   "source": [
    "#1.\tWrite a Python Program to Display Fibonacci Sequence Using Recursion?\n",
    "def fibonaci(a):\n",
    "    if a<=1:\n",
    "        return a\n",
    "    else :\n",
    "        return (fibonaci (a - 1) + fibonaci (a - 2))\n",
    "                \n",
    "numbers = 15\n",
    "\n",
    "if numbers <= 0:\n",
    "    print ('please insert a positive number.')\n",
    "    \n",
    "else :\n",
    "    print ('fibonaci series given below')\n",
    "    for i in range(numbers):\n",
    "        print(fibonaci(i))\n",
    "\n"
   ]
  },
  {
   "cell_type": "code",
   "execution_count": 5,
   "metadata": {
    "scrolled": true
   },
   "outputs": [
    {
     "name": "stdout",
     "output_type": "stream",
     "text": [
      "Enter the number for factorial : 7\n",
      "factorial of  7 is 5040\n"
     ]
    }
   ],
   "source": [
    "#2.\tWrite a Python Program to Find Factorial of Number Using Recursion?\n",
    "def factorial(n):\n",
    "    if n == 1:\n",
    "        return n\n",
    "    else :\n",
    "        return n*factorial(n-1)\n",
    "    \n",
    "num = int(input(\"Enter the number for factorial : \"))\n",
    "\n",
    "if num < 0 :\n",
    "    print(\"negative numbers are not allowed\")\n",
    "\n",
    "elif num == 0 :\n",
    "    print ('factorial of 0 is 1')\n",
    "    \n",
    "else :\n",
    "    print('factorial of ',num,'is',factorial(num))\n",
    "    \n",
    "    "
   ]
  },
  {
   "cell_type": "code",
   "execution_count": 1,
   "metadata": {},
   "outputs": [
    {
     "name": "stdout",
     "output_type": "stream",
     "text": [
      "enter your height in feet = 5.6\n",
      "enter your weight in kg = 65\n",
      "your body mass index is =  2.0727040816326534\n"
     ]
    }
   ],
   "source": [
    "#3.\tWrite a Python Program to calculate your Body Mass Index?\n",
    "height = float(input('enter your height in feet = '))\n",
    "weight = float(input('enter your weight in kg = '))\n",
    "bmi = weight/height**2\n",
    "print('your body mass index is = ',bmi)\n"
   ]
  },
  {
   "cell_type": "code",
   "execution_count": 2,
   "metadata": {},
   "outputs": [
    {
     "name": "stdout",
     "output_type": "stream",
     "text": [
      "math.log(50.26) : 3.917209532115446\n"
     ]
    }
   ],
   "source": [
    "#4.\tWrite a Python Program to calculate the natural logarithm of any number?\n",
    "import math\n",
    "\n",
    "print('math.log(50.26) :',math.log(50.26))"
   ]
  },
  {
   "cell_type": "code",
   "execution_count": 5,
   "metadata": {},
   "outputs": [
    {
     "name": "stdout",
     "output_type": "stream",
     "text": [
      "Enter the number you want to find the cube for = 9\n",
      "the cube sum of 9 is 135\n"
     ]
    }
   ],
   "source": [
    "#5.\tWrite a Python Program for cube sum of first n natural numbers?\n",
    "def cubesum(n):\n",
    "    sum = 0\n",
    "    for i in range(1,n+1):\n",
    "        sum+= i+i+i\n",
    "    return sum\n",
    "\n",
    "n = int(input('Enter the number you want to find the cube for = '))\n",
    "\n",
    "print('the cube sum of', n, 'is',cubesum(n))"
   ]
  },
  {
   "cell_type": "code",
   "execution_count": null,
   "metadata": {},
   "outputs": [],
   "source": []
  }
 ],
 "metadata": {
  "kernelspec": {
   "display_name": "Python 3",
   "language": "python",
   "name": "python3"
  },
  "language_info": {
   "codemirror_mode": {
    "name": "ipython",
    "version": 3
   },
   "file_extension": ".py",
   "mimetype": "text/x-python",
   "name": "python",
   "nbconvert_exporter": "python",
   "pygments_lexer": "ipython3",
   "version": "3.8.5"
  }
 },
 "nbformat": 4,
 "nbformat_minor": 4
}
